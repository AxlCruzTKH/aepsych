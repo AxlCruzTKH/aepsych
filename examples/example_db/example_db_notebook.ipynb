{
 "cells": [
  {
   "cell_type": "code",
   "execution_count": 5,
   "metadata": {},
   "outputs": [],
   "source": [
    "from aepsych.server import AEPsychServer\n",
    "\n",
    "import matplotlib.pyplot as plt\n",
    "import pandas as pd\n",
    "from collections import defaultdict\n",
    "import numpy as np\n",
    "\n",
    "db_name = \"unity_example_db.db\"\n",
    "\n"
   ]
  },
  {
   "cell_type": "markdown",
   "metadata": {},
   "source": [
    "## Loading the db"
   ]
  },
  {
   "cell_type": "code",
   "execution_count": 6,
   "metadata": {},
   "outputs": [],
   "source": [
    "#Load the db \n",
    "class DummySocket(object):\n",
    "    pass\n",
    "\n",
    "serv = AEPsychServer(socket=DummySocket, database_path=db_name)\n",
    "\n"
   ]
  },
  {
   "cell_type": "markdown",
   "metadata": {},
   "source": [
    "The database is made of a set of experiments, which have unique experiment UUIDs. Every time the server is started (e.g. from the command line), a new experiment id is generated. For a list of all experiment ids:"
   ]
  },
  {
   "cell_type": "code",
   "execution_count": 7,
   "metadata": {},
   "outputs": [
    {
     "name": "stdout",
     "output_type": "stream",
     "text": [
      "['d996ea94-36a3-4fdf-9dc8-b91e68045ba8', 'ad906f97-d12c-49f7-84d4-e36940b4f551']\n"
     ]
    }
   ],
   "source": [
    "exp_ids = [rec.experiment_id for rec in serv.db.get_master_records()]\n",
    "print(exp_ids)\n"
   ]
  },
  {
   "cell_type": "markdown",
   "metadata": {},
   "source": [
    "The above indicates that there are two experiment_ids in this database. \n",
    "\n",
    "Note that the above commands do not actually load any of the experiment data from the database. The data is only loaded when you run `serv.replay` to replay all of the messages that are recorded in the database. \n",
    "\n",
    "Note that replay can take a while, since every message sent to the server is getting replayed, and all calculations are being redone. You can pass `skip_computations = True` to make this much faster and skip all the model computations. "
   ]
  },
  {
   "cell_type": "code",
   "execution_count": 8,
   "metadata": {},
   "outputs": [
    {
     "name": "stderr",
     "output_type": "stream",
     "text": [
      "2021-12-06 18:14:38,324 [INFO   ] skip_computations=True, make sure to refit the final strat before doing anything!\n",
      "2021-12-06 18:14:38,352 [INFO   ] Received msg [setup]\n",
      "2021-12-06 18:14:38,354 [INFO   ] Request type is ask or query and skip_computations==True, skipping!\n",
      "2021-12-06 18:14:38,355 [INFO   ] Received msg [tell]\n",
      "2021-12-06 18:14:38,356 [INFO   ] Request type is ask or query and skip_computations==True, skipping!\n",
      "2021-12-06 18:14:38,356 [INFO   ] Received msg [tell]\n",
      "2021-12-06 18:14:38,357 [INFO   ] Request type is ask or query and skip_computations==True, skipping!\n",
      "2021-12-06 18:14:38,358 [INFO   ] Received msg [tell]\n",
      "2021-12-06 18:14:38,360 [INFO   ] Request type is ask or query and skip_computations==True, skipping!\n",
      "2021-12-06 18:14:38,360 [INFO   ] Received msg [tell]\n",
      "2021-12-06 18:14:38,361 [INFO   ] Request type is ask or query and skip_computations==True, skipping!\n",
      "2021-12-06 18:14:38,361 [INFO   ] Received msg [tell]\n",
      "2021-12-06 18:14:38,362 [INFO   ] Request type is ask or query and skip_computations==True, skipping!\n",
      "2021-12-06 18:14:38,363 [INFO   ] Received msg [tell]\n",
      "2021-12-06 18:14:38,365 [INFO   ] Request type is ask or query and skip_computations==True, skipping!\n",
      "2021-12-06 18:14:38,366 [INFO   ] Received msg [tell]\n",
      "2021-12-06 18:14:38,367 [INFO   ] Request type is ask or query and skip_computations==True, skipping!\n",
      "2021-12-06 18:14:38,369 [INFO   ] Received msg [tell]\n",
      "2021-12-06 18:14:38,370 [INFO   ] Request type is ask or query and skip_computations==True, skipping!\n",
      "2021-12-06 18:14:38,371 [INFO   ] Received msg [tell]\n",
      "2021-12-06 18:14:38,372 [INFO   ] Request type is ask or query and skip_computations==True, skipping!\n",
      "2021-12-06 18:14:38,373 [INFO   ] Received msg [tell]\n",
      "2021-12-06 18:14:38,375 [INFO   ] Request type is ask or query and skip_computations==True, skipping!\n",
      "2021-12-06 18:14:38,376 [INFO   ] Received msg [tell]\n",
      "2021-12-06 18:14:38,377 [INFO   ] Request type is ask or query and skip_computations==True, skipping!\n",
      "2021-12-06 18:14:38,378 [INFO   ] Received msg [tell]\n",
      "2021-12-06 18:14:38,380 [INFO   ] Request type is ask or query and skip_computations==True, skipping!\n",
      "2021-12-06 18:14:38,381 [INFO   ] Received msg [tell]\n",
      "2021-12-06 18:14:38,382 [INFO   ] Request type is ask or query and skip_computations==True, skipping!\n",
      "c:\\open\\fbsource-eden\\fbcode\\frl\\ae\\aepsych\\aepsych\\strategy.py:220: RuntimeWarning: Ran out of generators, staying on final generator!\n",
      "  warnings.warn(\n",
      "2021-12-06 18:14:38,385 [INFO   ] Received msg [tell]\n",
      "2021-12-06 18:14:38,386 [INFO   ] Recording strat because the experiment is complete.\n",
      "2021-12-06 18:14:38,420 [INFO   ] Request type is ask or query and skip_computations==True, skipping!\n",
      "2021-12-06 18:14:38,449 [INFO   ] Received msg [setup]\n",
      "2021-12-06 18:14:38,451 [INFO   ] Request type is ask or query and skip_computations==True, skipping!\n",
      "2021-12-06 18:14:38,453 [INFO   ] Received msg [tell]\n",
      "2021-12-06 18:14:38,455 [INFO   ] Request type is ask or query and skip_computations==True, skipping!\n",
      "2021-12-06 18:14:38,456 [INFO   ] Received msg [tell]\n",
      "2021-12-06 18:14:38,458 [INFO   ] Request type is ask or query and skip_computations==True, skipping!\n",
      "2021-12-06 18:14:38,460 [INFO   ] Received msg [tell]\n",
      "2021-12-06 18:14:38,462 [INFO   ] Request type is ask or query and skip_computations==True, skipping!\n",
      "2021-12-06 18:14:38,465 [INFO   ] Received msg [tell]\n",
      "2021-12-06 18:14:38,471 [INFO   ] Request type is ask or query and skip_computations==True, skipping!\n",
      "2021-12-06 18:14:38,473 [INFO   ] Received msg [tell]\n",
      "2021-12-06 18:14:38,476 [INFO   ] Request type is ask or query and skip_computations==True, skipping!\n",
      "2021-12-06 18:14:38,478 [INFO   ] Received msg [tell]\n",
      "2021-12-06 18:14:38,480 [INFO   ] Request type is ask or query and skip_computations==True, skipping!\n",
      "2021-12-06 18:14:38,482 [INFO   ] Received msg [tell]\n",
      "2021-12-06 18:14:38,484 [INFO   ] Request type is ask or query and skip_computations==True, skipping!\n",
      "2021-12-06 18:14:38,486 [INFO   ] Received msg [tell]\n",
      "2021-12-06 18:14:38,488 [INFO   ] Request type is ask or query and skip_computations==True, skipping!\n",
      "2021-12-06 18:14:38,490 [INFO   ] Received msg [tell]\n",
      "2021-12-06 18:14:38,492 [INFO   ] Request type is ask or query and skip_computations==True, skipping!\n",
      "2021-12-06 18:14:38,494 [INFO   ] Received msg [tell]\n",
      "2021-12-06 18:14:38,497 [INFO   ] Request type is ask or query and skip_computations==True, skipping!\n",
      "2021-12-06 18:14:38,499 [INFO   ] Received msg [tell]\n",
      "2021-12-06 18:14:38,501 [INFO   ] Request type is ask or query and skip_computations==True, skipping!\n",
      "2021-12-06 18:14:38,504 [INFO   ] Received msg [tell]\n",
      "2021-12-06 18:14:38,506 [INFO   ] Request type is ask or query and skip_computations==True, skipping!\n",
      "2021-12-06 18:14:38,508 [INFO   ] Received msg [tell]\n",
      "2021-12-06 18:14:38,510 [INFO   ] Request type is ask or query and skip_computations==True, skipping!\n",
      "2021-12-06 18:14:38,512 [INFO   ] Received msg [tell]\n",
      "2021-12-06 18:14:38,514 [INFO   ] Request type is ask or query and skip_computations==True, skipping!\n",
      "2021-12-06 18:14:38,516 [INFO   ] Received msg [tell]\n",
      "2021-12-06 18:14:38,518 [INFO   ] Request type is ask or query and skip_computations==True, skipping!\n",
      "2021-12-06 18:14:38,520 [INFO   ] Received msg [tell]\n",
      "2021-12-06 18:14:38,523 [INFO   ] Request type is ask or query and skip_computations==True, skipping!\n",
      "2021-12-06 18:14:38,525 [INFO   ] Received msg [tell]\n",
      "2021-12-06 18:14:38,527 [INFO   ] Request type is ask or query and skip_computations==True, skipping!\n",
      "2021-12-06 18:14:38,529 [INFO   ] Received msg [tell]\n",
      "2021-12-06 18:14:38,531 [INFO   ] Request type is ask or query and skip_computations==True, skipping!\n",
      "2021-12-06 18:14:38,533 [INFO   ] Received msg [tell]\n",
      "2021-12-06 18:14:38,535 [INFO   ] Request type is ask or query and skip_computations==True, skipping!\n",
      "2021-12-06 18:14:38,537 [INFO   ] Received msg [tell]\n",
      "2021-12-06 18:14:38,539 [INFO   ] Recording strat because the experiment is complete.\n",
      "2021-12-06 18:14:38,568 [INFO   ] Request type is ask or query and skip_computations==True, skipping!\n",
      "2021-12-06 18:14:38,607 [INFO   ] Received msg [setup]\n",
      "2021-12-06 18:14:38,608 [INFO   ] Request type is ask or query and skip_computations==True, skipping!\n",
      "2021-12-06 18:14:38,610 [INFO   ] Received msg [tell]\n",
      "2021-12-06 18:14:38,612 [INFO   ] Request type is ask or query and skip_computations==True, skipping!\n",
      "2021-12-06 18:14:38,613 [INFO   ] Received msg [tell]\n",
      "2021-12-06 18:14:38,615 [INFO   ] Request type is ask or query and skip_computations==True, skipping!\n",
      "2021-12-06 18:14:38,616 [INFO   ] Received msg [tell]\n",
      "2021-12-06 18:14:38,618 [INFO   ] Request type is ask or query and skip_computations==True, skipping!\n",
      "2021-12-06 18:14:38,620 [INFO   ] Received msg [tell]\n",
      "2021-12-06 18:14:38,622 [INFO   ] Request type is ask or query and skip_computations==True, skipping!\n",
      "2021-12-06 18:14:38,623 [INFO   ] Received msg [tell]\n",
      "2021-12-06 18:14:38,626 [INFO   ] Request type is ask or query and skip_computations==True, skipping!\n",
      "2021-12-06 18:14:38,628 [INFO   ] Received msg [tell]\n",
      "2021-12-06 18:14:38,630 [INFO   ] Request type is ask or query and skip_computations==True, skipping!\n",
      "2021-12-06 18:14:38,631 [INFO   ] Received msg [tell]\n",
      "2021-12-06 18:14:38,634 [INFO   ] Request type is ask or query and skip_computations==True, skipping!\n",
      "2021-12-06 18:14:38,636 [INFO   ] Received msg [tell]\n",
      "2021-12-06 18:14:38,638 [INFO   ] Request type is ask or query and skip_computations==True, skipping!\n",
      "2021-12-06 18:14:38,639 [INFO   ] Received msg [tell]\n",
      "2021-12-06 18:14:38,642 [INFO   ] Request type is ask or query and skip_computations==True, skipping!\n",
      "2021-12-06 18:14:38,643 [INFO   ] Received msg [tell]\n",
      "2021-12-06 18:14:38,646 [INFO   ] Request type is ask or query and skip_computations==True, skipping!\n",
      "2021-12-06 18:14:38,647 [INFO   ] Received msg [tell]\n",
      "2021-12-06 18:14:38,649 [INFO   ] Request type is ask or query and skip_computations==True, skipping!\n",
      "2021-12-06 18:14:38,652 [INFO   ] Received msg [tell]\n",
      "2021-12-06 18:14:38,654 [INFO   ] Request type is ask or query and skip_computations==True, skipping!\n",
      "2021-12-06 18:14:38,655 [INFO   ] Received msg [tell]\n",
      "2021-12-06 18:14:38,657 [INFO   ] Request type is ask or query and skip_computations==True, skipping!\n"
     ]
    },
    {
     "name": "stderr",
     "output_type": "stream",
     "text": [
      "2021-12-06 18:14:38,659 [INFO   ] Received msg [tell]\n",
      "2021-12-06 18:14:38,662 [INFO   ] Request type is ask or query and skip_computations==True, skipping!\n",
      "2021-12-06 18:14:38,663 [INFO   ] Received msg [tell]\n",
      "2021-12-06 18:14:38,665 [INFO   ] Request type is ask or query and skip_computations==True, skipping!\n",
      "2021-12-06 18:14:38,667 [INFO   ] Received msg [tell]\n",
      "2021-12-06 18:14:38,669 [INFO   ] Request type is ask or query and skip_computations==True, skipping!\n",
      "2021-12-06 18:14:38,671 [INFO   ] Received msg [tell]\n",
      "2021-12-06 18:14:38,673 [INFO   ] Request type is ask or query and skip_computations==True, skipping!\n",
      "2021-12-06 18:14:38,675 [INFO   ] Received msg [tell]\n",
      "2021-12-06 18:14:38,677 [INFO   ] Request type is ask or query and skip_computations==True, skipping!\n",
      "2021-12-06 18:14:38,679 [INFO   ] Received msg [tell]\n",
      "2021-12-06 18:14:38,681 [INFO   ] Request type is ask or query and skip_computations==True, skipping!\n",
      "2021-12-06 18:14:38,683 [INFO   ] Received msg [tell]\n",
      "2021-12-06 18:14:38,684 [INFO   ] Request type is ask or query and skip_computations==True, skipping!\n",
      "2021-12-06 18:14:38,686 [INFO   ] Received msg [tell]\n",
      "2021-12-06 18:14:38,688 [INFO   ] Request type is ask or query and skip_computations==True, skipping!\n",
      "2021-12-06 18:14:38,690 [INFO   ] Received msg [tell]\n",
      "2021-12-06 18:14:38,692 [INFO   ] Request type is ask or query and skip_computations==True, skipping!\n",
      "2021-12-06 18:14:38,693 [INFO   ] Received msg [tell]\n",
      "2021-12-06 18:14:38,695 [INFO   ] Request type is ask or query and skip_computations==True, skipping!\n",
      "2021-12-06 18:14:38,697 [INFO   ] Received msg [tell]\n",
      "2021-12-06 18:14:38,698 [INFO   ] Request type is ask or query and skip_computations==True, skipping!\n",
      "2021-12-06 18:14:38,700 [INFO   ] Received msg [tell]\n",
      "2021-12-06 18:14:38,701 [INFO   ] Request type is ask or query and skip_computations==True, skipping!\n",
      "2021-12-06 18:14:38,703 [INFO   ] Received msg [tell]\n",
      "2021-12-06 18:14:38,705 [INFO   ] Request type is ask or query and skip_computations==True, skipping!\n",
      "2021-12-06 18:14:38,707 [INFO   ] Received msg [tell]\n",
      "2021-12-06 18:14:38,709 [INFO   ] Request type is ask or query and skip_computations==True, skipping!\n",
      "2021-12-06 18:14:38,711 [INFO   ] Received msg [tell]\n",
      "2021-12-06 18:14:38,713 [INFO   ] Request type is ask or query and skip_computations==True, skipping!\n",
      "2021-12-06 18:14:38,714 [INFO   ] Received msg [tell]\n",
      "2021-12-06 18:14:38,717 [INFO   ] Request type is ask or query and skip_computations==True, skipping!\n",
      "2021-12-06 18:14:38,719 [INFO   ] Received msg [tell]\n",
      "2021-12-06 18:14:38,721 [INFO   ] Request type is ask or query and skip_computations==True, skipping!\n",
      "2021-12-06 18:14:38,723 [INFO   ] Received msg [tell]\n",
      "2021-12-06 18:14:38,726 [INFO   ] Request type is ask or query and skip_computations==True, skipping!\n",
      "2021-12-06 18:14:38,728 [INFO   ] Received msg [tell]\n",
      "2021-12-06 18:14:38,730 [INFO   ] Request type is ask or query and skip_computations==True, skipping!\n",
      "2021-12-06 18:14:38,732 [INFO   ] Received msg [tell]\n",
      "2021-12-06 18:14:38,734 [INFO   ] Request type is ask or query and skip_computations==True, skipping!\n",
      "2021-12-06 18:14:38,735 [INFO   ] Received msg [tell]\n",
      "2021-12-06 18:14:38,737 [INFO   ] Request type is ask or query and skip_computations==True, skipping!\n",
      "2021-12-06 18:14:38,739 [INFO   ] Received msg [tell]\n",
      "2021-12-06 18:14:38,741 [INFO   ] Request type is ask or query and skip_computations==True, skipping!\n",
      "2021-12-06 18:14:38,743 [INFO   ] Received msg [tell]\n",
      "2021-12-06 18:14:38,745 [INFO   ] Request type is ask or query and skip_computations==True, skipping!\n",
      "2021-12-06 18:14:38,747 [INFO   ] Received msg [tell]\n",
      "2021-12-06 18:14:38,749 [INFO   ] Request type is ask or query and skip_computations==True, skipping!\n",
      "2021-12-06 18:14:38,751 [INFO   ] Received msg [tell]\n",
      "2021-12-06 18:14:38,753 [INFO   ] Request type is ask or query and skip_computations==True, skipping!\n",
      "2021-12-06 18:14:38,755 [INFO   ] Received msg [tell]\n",
      "2021-12-06 18:14:38,757 [INFO   ] Request type is ask or query and skip_computations==True, skipping!\n",
      "2021-12-06 18:14:38,759 [INFO   ] Received msg [tell]\n",
      "2021-12-06 18:14:38,760 [INFO   ] Recording strat because the experiment is complete.\n",
      "2021-12-06 18:14:38,787 [INFO   ] Request type is ask or query and skip_computations==True, skipping!\n"
     ]
    }
   ],
   "source": [
    "serv.replay(exp_ids[0], skip_computations=True)"
   ]
  },
  {
   "cell_type": "markdown",
   "metadata": {},
   "source": [
    "After replaying, the experiment data will be contained in strategies. Each strategy corresponds to a run of an experiment; a new strategy is created every time a new setup message was sent. The local server has a list of those strategies, stored in `serv._strats.` "
   ]
  },
  {
   "cell_type": "code",
   "execution_count": 9,
   "metadata": {},
   "outputs": [
    {
     "data": {
      "text/plain": [
       "[<aepsych.strategy.SequentialStrategy at 0x1fbad39fd00>,\n",
       " <aepsych.strategy.SequentialStrategy at 0x1fbad3d3b80>,\n",
       " <aepsych.strategy.SequentialStrategy at 0x1fbad3d3c40>]"
      ]
     },
     "execution_count": 9,
     "metadata": {},
     "output_type": "execute_result"
    }
   ],
   "source": [
    "serv._strats"
   ]
  },
  {
   "cell_type": "markdown",
   "metadata": {},
   "source": [
    "You can load any of the exp_ids you want to this intance of the server; each time you replay, those strategies will be appended to the server. When developing, often I will just want to load just the last one:"
   ]
  },
  {
   "cell_type": "code",
   "execution_count": 10,
   "metadata": {},
   "outputs": [
    {
     "name": "stderr",
     "output_type": "stream",
     "text": [
      "2021-12-06 18:14:42,719 [INFO   ] skip_computations=True, make sure to refit the final strat before doing anything!\n",
      "2021-12-06 18:14:42,745 [INFO   ] Received msg [setup]\n",
      "2021-12-06 18:14:42,746 [INFO   ] Request type is ask or query and skip_computations==True, skipping!\n",
      "2021-12-06 18:14:42,748 [INFO   ] Received msg [tell]\n",
      "2021-12-06 18:14:42,749 [INFO   ] Request type is ask or query and skip_computations==True, skipping!\n",
      "2021-12-06 18:14:42,767 [INFO   ] Received msg [setup]\n",
      "2021-12-06 18:14:42,768 [INFO   ] Request type is ask or query and skip_computations==True, skipping!\n",
      "2021-12-06 18:14:42,769 [INFO   ] Received msg [tell]\n",
      "2021-12-06 18:14:42,770 [INFO   ] Request type is ask or query and skip_computations==True, skipping!\n",
      "2021-12-06 18:14:42,770 [INFO   ] Received msg [tell]\n",
      "2021-12-06 18:14:42,771 [INFO   ] Request type is ask or query and skip_computations==True, skipping!\n",
      "2021-12-06 18:14:42,772 [INFO   ] Received msg [tell]\n",
      "2021-12-06 18:14:42,773 [INFO   ] Request type is ask or query and skip_computations==True, skipping!\n",
      "2021-12-06 18:14:42,774 [INFO   ] Received msg [tell]\n",
      "2021-12-06 18:14:42,775 [INFO   ] Request type is ask or query and skip_computations==True, skipping!\n",
      "2021-12-06 18:14:42,776 [INFO   ] Received msg [tell]\n",
      "2021-12-06 18:14:42,776 [INFO   ] Request type is ask or query and skip_computations==True, skipping!\n",
      "2021-12-06 18:14:42,777 [INFO   ] Received msg [tell]\n",
      "2021-12-06 18:14:42,778 [INFO   ] Request type is ask or query and skip_computations==True, skipping!\n",
      "2021-12-06 18:14:42,778 [INFO   ] Received msg [tell]\n",
      "2021-12-06 18:14:42,779 [INFO   ] Request type is ask or query and skip_computations==True, skipping!\n",
      "2021-12-06 18:14:42,780 [INFO   ] Received msg [tell]\n",
      "2021-12-06 18:14:42,782 [INFO   ] Request type is ask or query and skip_computations==True, skipping!\n",
      "2021-12-06 18:14:42,782 [INFO   ] Received msg [tell]\n",
      "2021-12-06 18:14:42,784 [INFO   ] Request type is ask or query and skip_computations==True, skipping!\n",
      "2021-12-06 18:14:42,785 [INFO   ] Received msg [tell]\n",
      "2021-12-06 18:14:42,786 [INFO   ] Request type is ask or query and skip_computations==True, skipping!\n",
      "2021-12-06 18:14:42,786 [INFO   ] Received msg [tell]\n",
      "2021-12-06 18:14:42,788 [INFO   ] Request type is ask or query and skip_computations==True, skipping!\n",
      "2021-12-06 18:14:42,789 [INFO   ] Received msg [tell]\n",
      "2021-12-06 18:14:42,791 [INFO   ] Request type is ask or query and skip_computations==True, skipping!\n",
      "2021-12-06 18:14:42,792 [INFO   ] Received msg [tell]\n",
      "2021-12-06 18:14:42,793 [INFO   ] Request type is ask or query and skip_computations==True, skipping!\n",
      "2021-12-06 18:14:42,794 [INFO   ] Received msg [tell]\n",
      "2021-12-06 18:14:42,795 [INFO   ] Request type is ask or query and skip_computations==True, skipping!\n",
      "2021-12-06 18:14:42,796 [INFO   ] Received msg [tell]\n",
      "2021-12-06 18:14:42,798 [INFO   ] Request type is ask or query and skip_computations==True, skipping!\n",
      "2021-12-06 18:14:42,799 [INFO   ] Received msg [tell]\n",
      "2021-12-06 18:14:42,800 [INFO   ] Recording strat because the experiment is complete.\n",
      "2021-12-06 18:14:42,856 [INFO   ] Received msg [setup]\n",
      "2021-12-06 18:14:42,857 [INFO   ] Request type is ask or query and skip_computations==True, skipping!\n",
      "2021-12-06 18:14:42,859 [INFO   ] Received msg [tell]\n",
      "2021-12-06 18:14:42,860 [INFO   ] Request type is ask or query and skip_computations==True, skipping!\n",
      "2021-12-06 18:14:42,862 [INFO   ] Received msg [tell]\n",
      "2021-12-06 18:14:42,865 [INFO   ] Request type is ask or query and skip_computations==True, skipping!\n",
      "2021-12-06 18:14:42,867 [INFO   ] Received msg [tell]\n",
      "2021-12-06 18:14:42,869 [INFO   ] Request type is ask or query and skip_computations==True, skipping!\n",
      "2021-12-06 18:14:42,871 [INFO   ] Received msg [tell]\n",
      "2021-12-06 18:14:42,873 [INFO   ] Request type is ask or query and skip_computations==True, skipping!\n",
      "2021-12-06 18:14:42,875 [INFO   ] Received msg [tell]\n",
      "2021-12-06 18:14:42,878 [INFO   ] Request type is ask or query and skip_computations==True, skipping!\n",
      "2021-12-06 18:14:42,881 [INFO   ] Received msg [tell]\n",
      "2021-12-06 18:14:42,883 [INFO   ] Request type is ask or query and skip_computations==True, skipping!\n",
      "2021-12-06 18:14:42,885 [INFO   ] Received msg [tell]\n",
      "2021-12-06 18:14:42,887 [INFO   ] Request type is ask or query and skip_computations==True, skipping!\n",
      "2021-12-06 18:14:42,888 [INFO   ] Received msg [tell]\n",
      "2021-12-06 18:14:42,891 [INFO   ] Request type is ask or query and skip_computations==True, skipping!\n",
      "2021-12-06 18:14:42,893 [INFO   ] Received msg [tell]\n",
      "2021-12-06 18:14:42,895 [INFO   ] Request type is ask or query and skip_computations==True, skipping!\n",
      "2021-12-06 18:14:42,897 [INFO   ] Received msg [tell]\n",
      "2021-12-06 18:14:42,899 [INFO   ] Request type is ask or query and skip_computations==True, skipping!\n",
      "2021-12-06 18:14:42,901 [INFO   ] Received msg [tell]\n",
      "2021-12-06 18:14:42,903 [INFO   ] Request type is ask or query and skip_computations==True, skipping!\n",
      "2021-12-06 18:14:42,906 [INFO   ] Received msg [tell]\n",
      "2021-12-06 18:14:42,908 [INFO   ] Request type is ask or query and skip_computations==True, skipping!\n",
      "2021-12-06 18:14:42,910 [INFO   ] Received msg [tell]\n",
      "2021-12-06 18:14:42,913 [INFO   ] Request type is ask or query and skip_computations==True, skipping!\n",
      "2021-12-06 18:14:42,915 [INFO   ] Received msg [tell]\n",
      "2021-12-06 18:14:42,917 [INFO   ] Request type is ask or query and skip_computations==True, skipping!\n",
      "2021-12-06 18:14:42,918 [INFO   ] Received msg [tell]\n",
      "2021-12-06 18:14:42,921 [INFO   ] Request type is ask or query and skip_computations==True, skipping!\n",
      "2021-12-06 18:14:42,923 [INFO   ] Received msg [tell]\n",
      "2021-12-06 18:14:42,925 [INFO   ] Request type is ask or query and skip_computations==True, skipping!\n",
      "2021-12-06 18:14:42,927 [INFO   ] Received msg [tell]\n",
      "2021-12-06 18:14:42,929 [INFO   ] Request type is ask or query and skip_computations==True, skipping!\n",
      "2021-12-06 18:14:42,931 [INFO   ] Received msg [tell]\n",
      "2021-12-06 18:14:42,933 [INFO   ] Request type is ask or query and skip_computations==True, skipping!\n",
      "2021-12-06 18:14:42,935 [INFO   ] Received msg [tell]\n",
      "2021-12-06 18:14:42,937 [INFO   ] Request type is ask or query and skip_computations==True, skipping!\n",
      "2021-12-06 18:14:42,939 [INFO   ] Received msg [tell]\n",
      "2021-12-06 18:14:42,941 [INFO   ] Request type is ask or query and skip_computations==True, skipping!\n",
      "2021-12-06 18:14:42,943 [INFO   ] Received msg [tell]\n",
      "2021-12-06 18:14:42,945 [INFO   ] Request type is ask or query and skip_computations==True, skipping!\n",
      "2021-12-06 18:14:42,949 [INFO   ] Received msg [tell]\n",
      "2021-12-06 18:14:42,951 [INFO   ] Request type is ask or query and skip_computations==True, skipping!\n",
      "2021-12-06 18:14:42,953 [INFO   ] Received msg [tell]\n",
      "2021-12-06 18:14:42,955 [INFO   ] Request type is ask or query and skip_computations==True, skipping!\n",
      "2021-12-06 18:14:42,958 [INFO   ] Received msg [tell]\n",
      "2021-12-06 18:14:42,960 [INFO   ] Request type is ask or query and skip_computations==True, skipping!\n",
      "2021-12-06 18:14:42,962 [INFO   ] Received msg [tell]\n",
      "2021-12-06 18:14:42,965 [INFO   ] Request type is ask or query and skip_computations==True, skipping!\n",
      "2021-12-06 18:14:42,967 [INFO   ] Received msg [tell]\n",
      "2021-12-06 18:14:42,969 [INFO   ] Request type is ask or query and skip_computations==True, skipping!\n",
      "2021-12-06 18:14:42,971 [INFO   ] Received msg [tell]\n",
      "2021-12-06 18:14:42,974 [INFO   ] Request type is ask or query and skip_computations==True, skipping!\n",
      "2021-12-06 18:14:42,975 [INFO   ] Received msg [tell]\n",
      "2021-12-06 18:14:42,978 [INFO   ] Request type is ask or query and skip_computations==True, skipping!\n",
      "2021-12-06 18:14:42,980 [INFO   ] Received msg [tell]\n",
      "2021-12-06 18:14:42,982 [INFO   ] Request type is ask or query and skip_computations==True, skipping!\n",
      "2021-12-06 18:14:42,984 [INFO   ] Received msg [tell]\n",
      "2021-12-06 18:14:42,985 [INFO   ] Recording strat because the experiment is complete.\n",
      "2021-12-06 18:14:43,048 [INFO   ] Received msg [setup]\n",
      "2021-12-06 18:14:43,050 [INFO   ] Request type is ask or query and skip_computations==True, skipping!\n",
      "2021-12-06 18:14:43,052 [INFO   ] Received msg [tell]\n",
      "2021-12-06 18:14:43,054 [INFO   ] Request type is ask or query and skip_computations==True, skipping!\n"
     ]
    },
    {
     "name": "stderr",
     "output_type": "stream",
     "text": [
      "2021-12-06 18:14:43,056 [INFO   ] Received msg [tell]\n",
      "2021-12-06 18:14:43,057 [INFO   ] Request type is ask or query and skip_computations==True, skipping!\n",
      "2021-12-06 18:14:43,059 [INFO   ] Received msg [tell]\n",
      "2021-12-06 18:14:43,061 [INFO   ] Request type is ask or query and skip_computations==True, skipping!\n",
      "2021-12-06 18:14:43,062 [INFO   ] Received msg [tell]\n",
      "2021-12-06 18:14:43,064 [INFO   ] Request type is ask or query and skip_computations==True, skipping!\n",
      "2021-12-06 18:14:43,066 [INFO   ] Received msg [tell]\n",
      "2021-12-06 18:14:43,068 [INFO   ] Request type is ask or query and skip_computations==True, skipping!\n",
      "2021-12-06 18:14:43,071 [INFO   ] Received msg [tell]\n",
      "2021-12-06 18:14:43,072 [INFO   ] Request type is ask or query and skip_computations==True, skipping!\n",
      "2021-12-06 18:14:43,075 [INFO   ] Received msg [tell]\n",
      "2021-12-06 18:14:43,077 [INFO   ] Request type is ask or query and skip_computations==True, skipping!\n",
      "2021-12-06 18:14:43,079 [INFO   ] Received msg [tell]\n",
      "2021-12-06 18:14:43,081 [INFO   ] Request type is ask or query and skip_computations==True, skipping!\n",
      "2021-12-06 18:14:43,083 [INFO   ] Received msg [tell]\n",
      "2021-12-06 18:14:43,085 [INFO   ] Request type is ask or query and skip_computations==True, skipping!\n",
      "2021-12-06 18:14:43,087 [INFO   ] Received msg [tell]\n",
      "2021-12-06 18:14:43,089 [INFO   ] Request type is ask or query and skip_computations==True, skipping!\n",
      "2021-12-06 18:14:43,092 [INFO   ] Received msg [tell]\n",
      "2021-12-06 18:14:43,094 [INFO   ] Request type is ask or query and skip_computations==True, skipping!\n",
      "2021-12-06 18:14:43,096 [INFO   ] Received msg [tell]\n",
      "2021-12-06 18:14:43,099 [INFO   ] Request type is ask or query and skip_computations==True, skipping!\n",
      "2021-12-06 18:14:43,102 [INFO   ] Received msg [tell]\n",
      "2021-12-06 18:14:43,104 [INFO   ] Request type is ask or query and skip_computations==True, skipping!\n",
      "2021-12-06 18:14:43,106 [INFO   ] Received msg [tell]\n",
      "2021-12-06 18:14:43,108 [INFO   ] Request type is ask or query and skip_computations==True, skipping!\n",
      "2021-12-06 18:14:43,110 [INFO   ] Received msg [tell]\n",
      "2021-12-06 18:14:43,113 [INFO   ] Request type is ask or query and skip_computations==True, skipping!\n",
      "2021-12-06 18:14:43,115 [INFO   ] Received msg [tell]\n",
      "2021-12-06 18:14:43,117 [INFO   ] Request type is ask or query and skip_computations==True, skipping!\n",
      "2021-12-06 18:14:43,119 [INFO   ] Received msg [tell]\n",
      "2021-12-06 18:14:43,121 [INFO   ] Request type is ask or query and skip_computations==True, skipping!\n",
      "2021-12-06 18:14:43,124 [INFO   ] Received msg [tell]\n",
      "2021-12-06 18:14:43,125 [INFO   ] Request type is ask or query and skip_computations==True, skipping!\n",
      "2021-12-06 18:14:43,127 [INFO   ] Received msg [tell]\n",
      "2021-12-06 18:14:43,129 [INFO   ] Request type is ask or query and skip_computations==True, skipping!\n",
      "2021-12-06 18:14:43,131 [INFO   ] Received msg [tell]\n",
      "2021-12-06 18:14:43,133 [INFO   ] Request type is ask or query and skip_computations==True, skipping!\n",
      "2021-12-06 18:14:43,136 [INFO   ] Received msg [tell]\n",
      "2021-12-06 18:14:43,138 [INFO   ] Request type is ask or query and skip_computations==True, skipping!\n",
      "2021-12-06 18:14:43,140 [INFO   ] Received msg [tell]\n",
      "2021-12-06 18:14:43,142 [INFO   ] Request type is ask or query and skip_computations==True, skipping!\n",
      "2021-12-06 18:14:43,144 [INFO   ] Received msg [tell]\n",
      "2021-12-06 18:14:43,146 [INFO   ] Request type is ask or query and skip_computations==True, skipping!\n",
      "2021-12-06 18:14:43,148 [INFO   ] Received msg [tell]\n",
      "2021-12-06 18:14:43,150 [INFO   ] Request type is ask or query and skip_computations==True, skipping!\n",
      "2021-12-06 18:14:43,152 [INFO   ] Received msg [tell]\n",
      "2021-12-06 18:14:43,154 [INFO   ] Request type is ask or query and skip_computations==True, skipping!\n",
      "2021-12-06 18:14:43,156 [INFO   ] Received msg [tell]\n",
      "2021-12-06 18:14:43,158 [INFO   ] Request type is ask or query and skip_computations==True, skipping!\n",
      "2021-12-06 18:14:43,160 [INFO   ] Received msg [tell]\n",
      "2021-12-06 18:14:43,163 [INFO   ] Request type is ask or query and skip_computations==True, skipping!\n",
      "2021-12-06 18:14:43,165 [INFO   ] Received msg [tell]\n",
      "2021-12-06 18:14:43,167 [INFO   ] Request type is ask or query and skip_computations==True, skipping!\n",
      "2021-12-06 18:14:43,168 [INFO   ] Received msg [tell]\n",
      "2021-12-06 18:14:43,170 [INFO   ] Request type is ask or query and skip_computations==True, skipping!\n",
      "2021-12-06 18:14:43,172 [INFO   ] Received msg [tell]\n",
      "2021-12-06 18:14:43,174 [INFO   ] Request type is ask or query and skip_computations==True, skipping!\n",
      "2021-12-06 18:14:43,176 [INFO   ] Received msg [tell]\n",
      "2021-12-06 18:14:43,178 [INFO   ] Request type is ask or query and skip_computations==True, skipping!\n",
      "2021-12-06 18:14:43,180 [INFO   ] Received msg [tell]\n",
      "2021-12-06 18:14:43,183 [INFO   ] Request type is ask or query and skip_computations==True, skipping!\n",
      "2021-12-06 18:14:43,185 [INFO   ] Received msg [tell]\n",
      "2021-12-06 18:14:43,187 [INFO   ] Request type is ask or query and skip_computations==True, skipping!\n",
      "2021-12-06 18:14:43,189 [INFO   ] Received msg [tell]\n",
      "2021-12-06 18:14:43,192 [INFO   ] Request type is ask or query and skip_computations==True, skipping!\n"
     ]
    }
   ],
   "source": [
    "serv.replay(exp_ids[-1], skip_computations=True)"
   ]
  },
  {
   "cell_type": "code",
   "execution_count": 10,
   "metadata": {},
   "outputs": [
    {
     "data": {
      "text/plain": [
       "[<aepsych.strategy.SequentialStrategy at 0x12c52581fd0>,\n",
       " <aepsych.strategy.SequentialStrategy at 0x12c52614c40>,\n",
       " <aepsych.strategy.SequentialStrategy at 0x12c525c8070>,\n",
       " <aepsych.strategy.SequentialStrategy at 0x12c525c8700>,\n",
       " <aepsych.strategy.SequentialStrategy at 0x12c526ed430>,\n",
       " <aepsych.strategy.SequentialStrategy at 0x12c526af700>,\n",
       " <aepsych.strategy.SequentialStrategy at 0x12c525dac70>]"
      ]
     },
     "execution_count": 10,
     "metadata": {},
     "output_type": "execute_result"
    }
   ],
   "source": [
    "serv._strats"
   ]
  },
  {
   "cell_type": "markdown",
   "metadata": {},
   "source": [
    "## Viewing the data"
   ]
  },
  {
   "cell_type": "markdown",
   "metadata": {},
   "source": [
    "To start, we should make sure to run a fit for every model. Note that this only works if the strategy had gotten past the initialization trials, so if we are looping through strategies, we should filter those out.\n"
   ]
  },
  {
   "cell_type": "code",
   "execution_count": 11,
   "metadata": {
    "scrolled": false
   },
   "outputs": [
    {
     "name": "stdout",
     "output_type": "stream",
     "text": [
      "strat index: 0\n",
      "strat index: 1\n",
      "strat index: 2\n",
      "strat index: 3\n",
      "   strat skipped!\n",
      "strat index: 4\n",
      "strat index: 5\n",
      "strat index: 6\n"
     ]
    }
   ],
   "source": [
    "for idx, strat in enumerate(serv._strats):\n",
    "    print('strat index:', idx)\n",
    "    if not strat.has_model:\n",
    "        print('   strat skipped!')\n",
    "        continue\n",
    "    strat.model.fit(strat.x, strat.y)\n",
    "\n"
   ]
  },
  {
   "cell_type": "markdown",
   "metadata": {},
   "source": [
    "### Plotting\n",
    "\n",
    "We currently have a plotting function (for 1D and 2D) which shows the underlying model along with the points sampled. \n"
   ]
  },
  {
   "cell_type": "code",
   "execution_count": 12,
   "metadata": {},
   "outputs": [
    {
     "data": {
      "image/png": "[encoded data removed]",
      "text/plain": [
       "<Figure size 432x288 with 1 Axes>"
      ]
     },
     "metadata": {
      "needs_background": "light"
     },
     "output_type": "display_data"
    },
    {
     "name": "stderr",
     "output_type": "stream",
     "text": [
      "c:\\open\\fbsource-eden\\fbcode\\frl\\ae\\aepsych\\aepsych\\models\\monotonic_rejection_gp.py:244: UserWarning: num_rejection_samples should be at least 20 times greater than num_samples.\n",
      "  warnings.warn(\n"
     ]
    },
    {
     "data": {
      "image/png": "[encoded data removed]",
      "text/plain": [
       "<Figure size 432x288 with 1 Axes>"
      ]
     },
     "metadata": {
      "needs_background": "light"
     },
     "output_type": "display_data"
    }
   ],
   "source": [
    "from aepsych.plotting import plot_strat\n",
    "\n",
    "strat = serv._strats[0]\n",
    "plot_strat(strat, xlabel='grayscale value', ylabel='Probability Yes', title='1D Optimization for medium-gray color', cred_level=None, target_level=None)\n",
    "\n",
    "strat = serv._strats[4]\n",
    "plot_strat(strat, xlabel='alpha value', ylabel='Probability Yes', title='1D threshold for visibility')\n"
   ]
  },
  {
   "cell_type": "code",
   "execution_count": 13,
   "metadata": {
    "scrolled": false
   },
   "outputs": [
    {
     "data": {
      "image/png": "[encoded data removed]",
      "text/plain": [
       "<Figure size 432x288 with 2 Axes>"
      ]
     },
     "metadata": {
      "needs_background": "light"
     },
     "output_type": "display_data"
    },
    {
     "name": "stderr",
     "output_type": "stream",
     "text": [
      "c:\\open\\fbsource-eden\\fbcode\\frl\\ae\\aepsych\\aepsych\\models\\monotonic_rejection_gp.py:244: UserWarning: num_rejection_samples should be at least 20 times greater than num_samples.\n",
      "  warnings.warn(\n"
     ]
    },
    {
     "data": {
      "image/png": "[encoded data removed]",
      "text/plain": [
       "<Figure size 432x288 with 2 Axes>"
      ]
     },
     "metadata": {
      "needs_background": "light"
     },
     "output_type": "display_data"
    }
   ],
   "source": [
    "\n",
    "strat = serv._strats[1]\n",
    "plot_strat(strat, xlabel='R value', ylabel='B value', title='\"indigo\" optimization in 2D', target_level=None)\n",
    "\n",
    "strat = serv._strats[5]\n",
    "plot_strat(strat, xlabel='grayscale value', ylabel='alpha value', title='2D threshold of visibility')\n",
    "\n"
   ]
  },
  {
   "cell_type": "markdown",
   "metadata": {},
   "source": [
    "## Advanced strategy exploration"
   ]
  },
  {
   "cell_type": "markdown",
   "metadata": {},
   "source": [
    "### Viewing strategy information"
   ]
  },
  {
   "cell_type": "code",
   "execution_count": 23,
   "metadata": {},
   "outputs": [
    {
     "name": "stdout",
     "output_type": "stream",
     "text": [
      "strat num of dimensions: 3\n",
      "type of experiment: single_probit\n",
      "strategy:  <aepsych.strategy.SequentialStrategy object at 0x0000012C525DAC70>\n",
      "acqf: <class 'aepsych.acquisition.monotonic_rejection.MonotonicMCLSE'>\n"
     ]
    }
   ],
   "source": [
    "strat = serv._strats[-1]\n",
    "\n",
    "print('strat num of dimensions:', strat.dim)\n",
    "print('type of experiment:',strat.outcome_type)\n",
    "print('strategy: ', strat)\n",
    "print('acqf:', strat.generator.acqf)\n"
   ]
  },
  {
   "cell_type": "markdown",
   "metadata": {},
   "source": [
    "The base strategy is typically a sequential strategy, containging two or more sub-strategies. Usually, the first sub-strategy generations pseudo-random Sobol points, and the second is something else. Here we show the types and total number of trials for each sub-strategy within the sequential strategy.\n",
    "\n"
   ]
  },
  {
   "cell_type": "code",
   "execution_count": 24,
   "metadata": {},
   "outputs": [
    {
     "name": "stdout",
     "output_type": "stream",
     "text": [
      "[[<aepsych.generators.sobol_generator.SobolGenerator object at 0x0000012C52736A60>, 10], [<aepsych.generators.monotonic_rejection_generator.MonotonicRejectionGenerator object at 0x0000012C5274C700>, 25]]\n"
     ]
    }
   ],
   "source": [
    "\n",
    "print([ [sub_strat.generator, sub_strat.n_trials] for sub_strat in strat.strat_list ])"
   ]
  },
  {
   "cell_type": "markdown",
   "metadata": {},
   "source": [
    "To show the upper/lower extents of each dimension:\n"
   ]
  },
  {
   "cell_type": "code",
   "execution_count": 25,
   "metadata": {},
   "outputs": [
    {
     "name": "stdout",
     "output_type": "stream",
     "text": [
      "[[0.  1. ]\n",
      " [0.  1. ]\n",
      " [0.  0.8]]\n"
     ]
    }
   ],
   "source": [
    "print(np.c_[strat.lb, strat.ub])"
   ]
  },
  {
   "cell_type": "markdown",
   "metadata": {},
   "source": [
    "### Accessing and amending trial data "
   ]
  },
  {
   "cell_type": "markdown",
   "metadata": {},
   "source": [
    "To see the trial data for a strategy, you can use `strat.x` and `strat.y`"
   ]
  },
  {
   "cell_type": "code",
   "execution_count": 26,
   "metadata": {},
   "outputs": [
    {
     "name": "stdout",
     "output_type": "stream",
     "text": [
      "tensor([[0.1549, 0.4143, 0.4542],\n",
      "        [0.5631, 0.7462, 0.0724],\n",
      "        [0.7774, 0.1117, 0.6363]])\n",
      "tensor([1., 0., 1., 1., 1., 1., 1., 1., 1., 1., 0., 1., 1., 0., 1., 0., 1., 1.,\n",
      "        1., 1., 1., 0., 0., 1., 1., 1., 1., 1., 1., 0., 1., 1., 1., 1.])\n"
     ]
    }
   ],
   "source": [
    "print(strat.x[0:3]) #the paramters in the first three trials\n",
    "\n",
    "print(strat.y) #the responses of all trials"
   ]
  },
  {
   "cell_type": "code",
   "execution_count": 27,
   "metadata": {},
   "outputs": [
    {
     "data": {
      "text/plain": [
       "torch.Size([34, 3])"
      ]
     },
     "execution_count": 27,
     "metadata": {},
     "output_type": "execute_result"
    }
   ],
   "source": [
    "strat.x.shape"
   ]
  },
  {
   "cell_type": "markdown",
   "metadata": {},
   "source": [
    "The shape of the x data is a quick way to see the configuration: above, size [34, 3] indicates we had 34 trials, in 3 dimensions.\n"
   ]
  },
  {
   "cell_type": "markdown",
   "metadata": {},
   "source": [
    "You can add data by using `strat.add_data`: for example, here we create a dummy point and add it. \n"
   ]
  },
  {
   "cell_type": "code",
   "execution_count": 28,
   "metadata": {},
   "outputs": [],
   "source": [
    "import torch \n",
    "\n",
    "last_x, last_y = strat.x[-1], strat.y[-1]\n",
    "new_x = torch.Tensor([1.0, 1.0, 1.0])\n",
    "new_y = torch.Tensor([0.0])\n",
    "serv.strat.add_data(new_x, new_y)"
   ]
  },
  {
   "cell_type": "code",
   "execution_count": 29,
   "metadata": {},
   "outputs": [
    {
     "data": {
      "text/plain": [
       "torch.Size([35, 3])"
      ]
     },
     "execution_count": 29,
     "metadata": {},
     "output_type": "execute_result"
    }
   ],
   "source": [
    "strat.x.shape\n"
   ]
  },
  {
   "cell_type": "markdown",
   "metadata": {},
   "source": [
    "### Using the model"
   ]
  },
  {
   "cell_type": "markdown",
   "metadata": {},
   "source": [
    "To directly query the model, we must create a set of points to sample, then call `strat.predict` on those points:"
   ]
  },
  {
   "cell_type": "code",
   "execution_count": 11,
   "metadata": {},
   "outputs": [],
   "source": [
    "#Here we sample strategy 2, a 3D optimization. \n",
    "\n",
    "strat = serv._strats[2] \n",
    "\n",
    "# Create a grid on which to sample the model, then sample it.\n",
    "# Note that for >2 dimensions, gridsize should be smaller than the default of 30, as it will create [gridsize^dim] points.\n",
    "xgrid = strat.model.dim_grid(gridsize=10)\n",
    "fmean = strat.predict(xgrid)[0].detach().numpy()\n"
   ]
  },
  {
   "cell_type": "code",
   "execution_count": 32,
   "metadata": {},
   "outputs": [
    {
     "name": "stdout",
     "output_type": "stream",
     "text": [
      "model min and max:  -2.668983467947413 -0.7079493697070682\n"
     ]
    }
   ],
   "source": [
    "vmin = np.min(fmean); vmax = np.max(fmean)\n",
    "\n",
    "print(\"model min and max: \", vmin, vmax)"
   ]
  },
  {
   "cell_type": "markdown",
   "metadata": {},
   "source": [
    "Now, we can do whatever we want with analysis or custom plots, etc. Here is a custom function to plot some 2D slices of the 3D strategy:\n"
   ]
  },
  {
   "cell_type": "code",
   "execution_count": 33,
   "metadata": {},
   "outputs": [
    {
     "data": {
      "image/png": "[encoded data removed]",
      "text/plain": [
       "<Figure size 1440x216 with 6 Axes>"
      ]
     },
     "metadata": {
      "needs_background": "light"
     },
     "output_type": "display_data"
    }
   ],
   "source": [
    "\n",
    "from scipy.stats import norm\n",
    "parnames = [\"R\", \"G\", \"B\"] \n",
    "\n",
    "\n",
    "def plot_slices_at(strat, parnames, dim_num, dim_vals, gridsize=30, lse=False):\n",
    "    # Get the overall model min and max so that all slices are set to that scale\n",
    "    xgrid = strat.model.dim_grid(gridsize=10)\n",
    "    fmean = strat.model.predict(xgrid)[0].detach().numpy()\n",
    "    vmin = np.min(fmean); vmax = np.max(fmean)\n",
    "\n",
    "    #Set up the plots and extents \n",
    "    extent = np.c_[strat.lb, strat.ub].reshape(-1)\n",
    "    fig, axs = plt.subplots(1,len(dim_vals), constrained_layout=True, figsize=(20,3))\n",
    "    gridsizes=[gridsize, gridsize, gridsize]\n",
    "    gridsizes[dim_num] = 1\n",
    "    \n",
    "    #For each slice value, we will create one plot\n",
    "    for _i, dim_val in enumerate(dim_vals):\n",
    "        extent[dim_num*2] = dim_val\n",
    "        x = torch.Tensor(\n",
    "        np.mgrid[\n",
    "            extent[0] : extent[1] : gridsizes[0] * 1j,\n",
    "            extent[2] : extent[3] : gridsizes[1] * 1j,\n",
    "            extent[4] : extent[5] : gridsizes[2] * 1j,\n",
    "        ]\n",
    "        .reshape(3, -1)\n",
    "        .T\n",
    "        )\n",
    "        \n",
    "        fmean, fvar = strat.predict(x)\n",
    "        fmean = fmean.detach().numpy().reshape(gridsize,gridsize)\n",
    "        plt_extents = np.delete(extent, [dim_num*2, dim_num*2+1])\n",
    "        plt_parnames = np.delete(parnames, dim_num)\n",
    "        \n",
    "        #If LSE, then the scale is just 0 to 1 and we take the probability\n",
    "        if lse:\n",
    "            vmin=0.0\n",
    "            vmax=1.0\n",
    "            fmean = norm.cdf(fmean)\n",
    "    \n",
    "        #Create the subplot\n",
    "        img = axs[_i].imshow(fmean.T, extent=plt_extents, origin=\"lower\", aspect=\"auto\", vmin=vmin, vmax=vmax)\n",
    "        axs[_i].set_title(parnames[dim_num]+'='+str(dim_val))\n",
    "        axs[_i].set_xlabel(plt_parnames[0])\n",
    "        \n",
    "        #only show y-axis label on first plot\n",
    "        if _i==0:\n",
    "            axs[_i].set_ylabel(plt_parnames[1])\n",
    "\n",
    "    #show colorbar beside last plot\n",
    "    plt.colorbar(img, ax=axs[_i])\n",
    "    plt.show()\n",
    "\n",
    "    \n",
    "plot_slices_at(strat, parnames, 1, [0, 0.25, 0.5, 0.75, 1])\n"
   ]
  },
  {
   "cell_type": "markdown",
   "metadata": {},
   "source": [
    "You can  also use query functions to get more information about the model. For example, to get the location of the maximum of the above strategy:"
   ]
  },
  {
   "cell_type": "code",
   "execution_count": 34,
   "metadata": {},
   "outputs": [
    {
     "data": {
      "text/plain": [
       "(-0.6877893164214226, array([0.43367538, 0.21461395, 0.92206577]))"
      ]
     },
     "execution_count": 34,
     "metadata": {},
     "output_type": "execute_result"
    }
   ],
   "source": [
    "strat.get_max()"
   ]
  },
  {
   "cell_type": "markdown",
   "metadata": {},
   "source": [
    "The above prints out the maximum value and its location, in this case an array of the 3 parameter values. \n",
    "\n",
    "Similarly for the minimum:"
   ]
  },
  {
   "cell_type": "code",
   "execution_count": 35,
   "metadata": {},
   "outputs": [
    {
     "data": {
      "text/plain": [
       "(-2.673441021092519, array([0.60324639, 0.49359279, 0.31608179]))"
      ]
     },
     "execution_count": 35,
     "metadata": {},
     "output_type": "execute_result"
    }
   ],
   "source": [
    "strat.get_min()"
   ]
  },
  {
   "cell_type": "markdown",
   "metadata": {},
   "source": [
    "For fun, here is the color corresponding to the maximum of the model shown above, which is one person's (R,G,B) color corresponding to the color \"indigo.\""
   ]
  },
  {
   "cell_type": "code",
   "execution_count": 12,
   "metadata": {},
   "outputs": [
    {
     "data": {
      "image/png": "[encoded data removed]",
      "text/plain": [
       "<Figure size 432x288 with 1 Axes>"
      ]
     },
     "metadata": {
      "needs_background": "light"
     },
     "output_type": "display_data"
    }
   ],
   "source": [
    "import matplotlib.pyplot as plt\n",
    "plt.imshow([[strat.get_max()[1]]])\n",
    "plt.show()\n"
   ]
  },
  {
   "cell_type": "code",
   "execution_count": null,
   "metadata": {},
   "outputs": [],
   "source": []
  }
 ],
 "metadata": {
  "kernelspec": {
   "display_name": "Python 3 (ipykernel)",
   "language": "python",
   "name": "python3"
  },
  "language_info": {
   "codemirror_mode": {
    "name": "ipython",
    "version": 3
   },
   "file_extension": ".py",
   "mimetype": "text/x-python",
   "name": "python",
   "nbconvert_exporter": "python",
   "pygments_lexer": "ipython3",
   "version": "3.9.6"
  }
 },
 "nbformat": 4,
 "nbformat_minor": 4
}
